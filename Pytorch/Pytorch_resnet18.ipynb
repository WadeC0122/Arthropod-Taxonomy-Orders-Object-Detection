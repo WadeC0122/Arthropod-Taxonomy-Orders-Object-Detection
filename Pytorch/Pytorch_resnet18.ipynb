{
 "cells": [
  {
   "cell_type": "code",
   "execution_count": null,
   "metadata": {},
   "outputs": [],
   "source": [
    "!pip install torch torchvision"
   ]
  },
  {
   "cell_type": "code",
   "execution_count": 1,
   "metadata": {},
   "outputs": [],
   "source": [
    "import os\n",
    "import numpy as np\n",
    "\n",
    "%matplotlib inline\n",
    "import matplotlib.pyplot as plt\n",
    "\n",
    "import torch\n",
    "import torch.nn as nn\n",
    "import torchvision.models as models\n",
    "import torch.optim as optim\n",
    "\n",
    "from torchvision import datasets\n",
    "import torchvision.transforms as transforms\n",
    "from tqdm import tqdm"
   ]
  },
  {
   "cell_type": "code",
   "execution_count": 2,
   "metadata": {},
   "outputs": [
    {
     "name": "stdout",
     "output_type": "stream",
     "text": [
      "tensor([1.])\n"
     ]
    }
   ],
   "source": [
    "device = ('cuda' if torch.cuda.is_available() else 'cpu')\n",
    "a = torch.Tensor([1]).to(device)\n",
    "print(a)"
   ]
  },
  {
   "cell_type": "markdown",
   "metadata": {},
   "source": [
    "# Set up Neural Network (Resnet18)"
   ]
  },
  {
   "cell_type": "code",
   "execution_count": 3,
   "metadata": {},
   "outputs": [],
   "source": [
    "class PreTrainedResNet(nn.Module):\n",
    "    def __init__(self, num_classes, feature_extracting):\n",
    "        super(PreTrainedResNet, self).__init__()\n",
    "        \n",
    "        # Load pre-trained ResNet Model\n",
    "        self.resnet18 = models.resnet18(pretrained=True)\n",
    "\n",
    "        # Set gradients to false\n",
    "        if feature_extracting:\n",
    "            for param in self.resnet18.parameters():\n",
    "                param.requires_grad = False\n",
    "    \n",
    "        # Replace last fc layer\n",
    "        num_feats = self.resnet18.fc.in_features\n",
    "        \n",
    "        # Replace fc layer in resnet to a linear layer of size (num_feats, num_classes)\n",
    "        self.resnet18.fc = nn.Sequential(\n",
    "            nn.Linear(num_feats, 512),\n",
    "            nn.BatchNorm1d(512),\n",
    "            nn.ReLU(True),\n",
    "            nn.Linear(512, num_classes)\n",
    "        ) \n",
    "\n",
    "    def forward(self, x):\n",
    "        # Forward pass x through the model\n",
    "        x = self.resnet18(x)\n",
    "        return x"
   ]
  },
  {
   "cell_type": "markdown",
   "metadata": {},
   "source": [
    "# Load Data"
   ]
  },
  {
   "cell_type": "code",
   "execution_count": 4,
   "metadata": {},
   "outputs": [],
   "source": [
    "# Hyperparams\n",
    "NUM_EPOCHS = 20\n",
    "LEARNING_RATE = 0.001\n",
    "BATCH_SIZE = 32\n",
    "RESNET_LAST_ONLY = True # Set to True to tune only the last layer. Set to False to tune entire network\n",
    "AUGMENTATION = True # Choose whether using data augmentation"
   ]
  },
  {
   "cell_type": "code",
   "execution_count": 5,
   "metadata": {},
   "outputs": [],
   "source": [
    "root_path = 'data/'\n",
    "\n",
    "if AUGMENTATION == True:\n",
    "    data_transforms = {\n",
    "        'train': transforms.Compose([\n",
    "            transforms.Resize(256),\n",
    "            transforms.RandomResizedCrop(224),\n",
    "            transforms.RandomHorizontalFlip(),\n",
    "            transforms.ToTensor(),\n",
    "            transforms.Normalize(mean=[0,0,0], std=[1,1,1])\n",
    "        ]),\n",
    "        'validation': transforms.Compose([\n",
    "            transforms.Resize(256),\n",
    "            transforms.CenterCrop(224),\n",
    "            transforms.ToTensor(),\n",
    "            transforms.Normalize(mean=[0,0,0], std=[1,1,1])\n",
    "        ]),\n",
    "        'test': transforms.Compose([\n",
    "            transforms.Resize(256),\n",
    "            transforms.CenterCrop(224),\n",
    "            transforms.ToTensor(),\n",
    "            transforms.Normalize(mean=[0,0,0], std=[1,1,1])\n",
    "        ]),\n",
    "    }\n",
    "else:\n",
    "    data_transforms = {\n",
    "        'train': transforms.Compose([\n",
    "            transforms.Resize((256, 256)),\n",
    "            transforms.ToTensor(),\n",
    "        ]),\n",
    "        'validation': transforms.Compose([\n",
    "            transforms.Resize((256, 256)),\n",
    "            transforms.ToTensor(),\n",
    "        ]),\n",
    "        'test': transforms.Compose([\n",
    "            transforms.Resize((256, 256)),\n",
    "            transforms.ToTensor(),\n",
    "        ]),\n",
    "    }\n",
    "\n",
    "# Load datasets with PyTorch ImageFolder\n",
    "image_datasets = {x: datasets.ImageFolder(os.path.join(root_path, x), data_transforms[x]) for x in ['train', 'test','validation']}\n",
    "\n",
    "# Define data loaders to load data using image_datasets and transforms, here we also specify batch size for the mini batch\n",
    "dataloaders = {x: torch.utils.data.DataLoader(image_datasets[x], batch_size=BATCH_SIZE,shuffle=True, num_workers=4) for x in ['train', 'test', 'validation']}\n",
    "\n",
    "# Define sizes of datasets, the number of labels\n",
    "dataset_sizes = {x: len(image_datasets[x]) for x in ['train', 'test', 'validation']}\n",
    "label_list = image_datasets['train'].classes\n",
    "TOTAL_CLASSES = len(label_list)\n",
    "\n",
    "# Initialize the model\n",
    "model = PreTrainedResNet(len(label_list), RESNET_LAST_ONLY)\n",
    "model = model.to(device)\n",
    "\n",
    "# Set the optimizer, scheduler and loss criterion\n",
    "optimizer = optim.SGD(model.parameters(), lr=LEARNING_RATE, momentum=0.9)\n",
    "scheduler = optim.lr_scheduler.StepLR(optimizer, 10, gamma=0.5)\n",
    "criterion = nn.CrossEntropyLoss()\n"
   ]
  },
  {
   "cell_type": "markdown",
   "metadata": {},
   "source": [
    "# Evaluation on Validation Data"
   ]
  },
  {
   "cell_type": "code",
   "execution_count": 6,
   "metadata": {},
   "outputs": [],
   "source": [
    "# Evaluation Reference: https://www.jianshu.com/p/f4952822e0e5\n",
    "def validation(valloader, TOTAL_CLASSES):\n",
    "    correct = 0\n",
    "    total = 0\n",
    "\n",
    "    class_correct = list(0. for i in range(TOTAL_CLASSES))\n",
    "    class_total = list(0. for i in range(TOTAL_CLASSES))\n",
    "    confusion_matrix = torch.zeros(TOTAL_CLASSES, TOTAL_CLASSES)\n",
    "\n",
    "    for images, labels in valloader:\n",
    "        images, labels = images.to(device), labels.to(device)\n",
    "        \n",
    "        outputs = model.forward(images)\n",
    "        _, predicted = torch.max(outputs.data, 1)\n",
    "        \n",
    "        total += labels.size(0)\n",
    "        correct += (predicted == labels).sum()\n",
    "\n",
    "        c = (predicted == labels).squeeze()\n",
    "        for i in range(len(labels)):\n",
    "            label = labels[i]\n",
    "            class_correct[label] += c[i]\n",
    "            class_total[label] += 1\n",
    "            \n",
    "        for t, p in zip(labels.view(-1), predicted.view(-1)):\n",
    "            confusion_matrix[t.long(), p.long()] += 1\n",
    "\n",
    "    #print(\"Confusion Matrix: \",confusion_matrix)\n",
    "\n",
    "    # Get the per-class precision\n",
    "    precision = confusion_matrix.diag()/confusion_matrix.sum(1)\n",
    "    print(\"Precision: \", confusion_matrix.diag()/confusion_matrix.sum(1))\n",
    "    \n",
    "    # Get the per-class recall\n",
    "    recall = confusion_matrix.diag()/confusion_matrix.sum(1)\n",
    "    print(\"Recall: \", confusion_matrix.diag()/confusion_matrix.sum(0))\n",
    "    \n",
    "    # Get the per-class f1 score\n",
    "    f1 = 2 * precision * recall / (precision + recall)\n",
    "    print(\"F1 Score: \", f1)\n",
    "\n",
    "    class_accuracy = np.divide(class_correct, class_total)\n",
    "    return correct/total, class_accuracy"
   ]
  },
  {
   "cell_type": "markdown",
   "metadata": {},
   "source": [
    "# Train model"
   ]
  },
  {
   "cell_type": "code",
   "execution_count": 7,
   "metadata": {},
   "outputs": [
    {
     "name": "stderr",
     "output_type": "stream",
     "text": [
      "\r",
      "  0%|          | 0/20 [00:00<?, ?it/s]"
     ]
    },
    {
     "name": "stdout",
     "output_type": "stream",
     "text": [
      "Epoch 1/20 : Train Loss 0.0172; Train Accuracy 0.7204\n"
     ]
    },
    {
     "name": "stderr",
     "output_type": "stream",
     "text": [
      "\r",
      "  5%|▌         | 1/20 [02:46<52:44, 166.54s/it]"
     ]
    },
    {
     "name": "stdout",
     "output_type": "stream",
     "text": [
      "Precision:  tensor([0.8413, 0.8699])\n",
      "Recall:  tensor([0.8867, 0.8191])\n",
      "F1 Score:  tensor([0.8413, 0.8699])\n",
      "Validation Accuracy: 0.8542\n",
      "Accuracy of Araneae : 0.8413\n",
      "Accuracy of Coleoptera : 0.8699\n",
      " \n",
      "Epoch 2/20 : Train Loss 0.0120; Train Accuracy 0.8196\n"
     ]
    },
    {
     "name": "stderr",
     "output_type": "stream",
     "text": [
      "\r",
      " 10%|█         | 2/20 [05:33<49:59, 166.64s/it]"
     ]
    },
    {
     "name": "stdout",
     "output_type": "stream",
     "text": [
      "Precision:  tensor([0.8675, 0.8654])\n",
      "Recall:  tensor([0.8863, 0.8437])\n",
      "F1 Score:  tensor([0.8675, 0.8654])\n",
      "Validation Accuracy: 0.8665\n",
      "Accuracy of Araneae : 0.8675\n",
      "Accuracy of Coleoptera : 0.8654\n",
      " \n",
      "Epoch 3/20 : Train Loss 0.0109; Train Accuracy 0.8522\n"
     ]
    },
    {
     "name": "stderr",
     "output_type": "stream",
     "text": [
      "\r",
      " 15%|█▌        | 3/20 [08:21<47:19, 167.00s/it]"
     ]
    },
    {
     "name": "stdout",
     "output_type": "stream",
     "text": [
      "Precision:  tensor([0.8712, 0.8684])\n",
      "Recall:  tensor([0.8890, 0.8479])\n",
      "F1 Score:  tensor([0.8712, 0.8684])\n",
      "Validation Accuracy: 0.8700\n",
      "Accuracy of Araneae : 0.8712\n",
      "Accuracy of Coleoptera : 0.8684\n",
      " \n",
      "Epoch 4/20 : Train Loss 0.0107; Train Accuracy 0.8433\n"
     ]
    },
    {
     "name": "stderr",
     "output_type": "stream",
     "text": [
      "\r",
      " 20%|██        | 4/20 [11:07<44:30, 166.88s/it]"
     ]
    },
    {
     "name": "stdout",
     "output_type": "stream",
     "text": [
      "Precision:  tensor([0.8525, 0.9062])\n",
      "Recall:  tensor([0.9167, 0.8354])\n",
      "F1 Score:  tensor([0.8525, 0.9062])\n",
      "Validation Accuracy: 0.8768\n",
      "Accuracy of Araneae : 0.8525\n",
      "Accuracy of Coleoptera : 0.9062\n",
      " \n",
      "Epoch 5/20 : Train Loss 0.0098; Train Accuracy 0.8516\n"
     ]
    },
    {
     "name": "stderr",
     "output_type": "stream",
     "text": [
      "\r",
      " 25%|██▌       | 5/20 [13:53<41:37, 166.53s/it]"
     ]
    },
    {
     "name": "stdout",
     "output_type": "stream",
     "text": [
      "Precision:  tensor([0.8550, 0.8926])\n",
      "Recall:  tensor([0.9060, 0.8357])\n",
      "F1 Score:  tensor([0.8550, 0.8926])\n",
      "Validation Accuracy: 0.8720\n",
      "Accuracy of Araneae : 0.8550\n",
      "Accuracy of Coleoptera : 0.8926\n",
      " \n",
      "Epoch 6/20 : Train Loss 0.0096; Train Accuracy 0.8631\n"
     ]
    },
    {
     "name": "stderr",
     "output_type": "stream",
     "text": [
      "\r",
      " 30%|███       | 6/20 [16:39<38:50, 166.44s/it]"
     ]
    },
    {
     "name": "stdout",
     "output_type": "stream",
     "text": [
      "Precision:  tensor([0.8413, 0.9123])\n",
      "Recall:  tensor([0.9207, 0.8260])\n",
      "F1 Score:  tensor([0.8413, 0.9123])\n",
      "Validation Accuracy: 0.8734\n",
      "Accuracy of Araneae : 0.8413\n",
      "Accuracy of Coleoptera : 0.9123\n",
      " \n",
      "Epoch 7/20 : Train Loss 0.0093; Train Accuracy 0.8663\n"
     ]
    },
    {
     "name": "stderr",
     "output_type": "stream",
     "text": [
      "\r",
      " 35%|███▌      | 7/20 [19:26<36:04, 166.53s/it]"
     ]
    },
    {
     "name": "stdout",
     "output_type": "stream",
     "text": [
      "Precision:  tensor([0.9050, 0.8563])\n",
      "Recall:  tensor([0.8840, 0.8816])\n",
      "F1 Score:  tensor([0.9050, 0.8563])\n",
      "Validation Accuracy: 0.8830\n",
      "Accuracy of Araneae : 0.9050\n",
      "Accuracy of Coleoptera : 0.8563\n",
      " \n",
      "Epoch 8/20 : Train Loss 0.0093; Train Accuracy 0.8624\n"
     ]
    },
    {
     "name": "stderr",
     "output_type": "stream",
     "text": [
      "\r",
      " 40%|████      | 8/20 [22:12<33:16, 166.34s/it]"
     ]
    },
    {
     "name": "stdout",
     "output_type": "stream",
     "text": [
      "Precision:  tensor([0.8313, 0.9183])\n",
      "Recall:  tensor([0.9249, 0.8181])\n",
      "F1 Score:  tensor([0.8313, 0.9183])\n",
      "Validation Accuracy: 0.8706\n",
      "Accuracy of Araneae : 0.8313\n",
      "Accuracy of Coleoptera : 0.9183\n",
      " \n",
      "Epoch 9/20 : Train Loss 0.0093; Train Accuracy 0.8663\n"
     ]
    },
    {
     "name": "stderr",
     "output_type": "stream",
     "text": [
      "\r",
      " 45%|████▌     | 9/20 [24:58<30:28, 166.20s/it]"
     ]
    },
    {
     "name": "stdout",
     "output_type": "stream",
     "text": [
      "Precision:  tensor([0.8687, 0.8865])\n",
      "Recall:  tensor([0.9026, 0.8480])\n",
      "F1 Score:  tensor([0.8687, 0.8865])\n",
      "Validation Accuracy: 0.8768\n",
      "Accuracy of Araneae : 0.8688\n",
      "Accuracy of Coleoptera : 0.8865\n",
      " \n",
      "Epoch 10/20 : Train Loss 0.0083; Train Accuracy 0.8868\n"
     ]
    },
    {
     "name": "stderr",
     "output_type": "stream",
     "text": [
      "\r",
      " 50%|█████     | 10/20 [27:44<27:43, 166.33s/it]"
     ]
    },
    {
     "name": "stdout",
     "output_type": "stream",
     "text": [
      "Precision:  tensor([0.8838, 0.8714])\n",
      "Recall:  tensor([0.8927, 0.8610])\n",
      "F1 Score:  tensor([0.8838, 0.8714])\n",
      "Validation Accuracy: 0.8782\n",
      "Accuracy of Araneae : 0.8838\n",
      "Accuracy of Coleoptera : 0.8714\n",
      " \n",
      "Epoch 11/20 : Train Loss 0.0091; Train Accuracy 0.8663\n"
     ]
    },
    {
     "name": "stderr",
     "output_type": "stream",
     "text": [
      "\r",
      " 55%|█████▌    | 11/20 [30:30<24:55, 166.14s/it]"
     ]
    },
    {
     "name": "stdout",
     "output_type": "stream",
     "text": [
      "Precision:  tensor([0.8788, 0.8986])\n",
      "Recall:  tensor([0.9130, 0.8596])\n",
      "F1 Score:  tensor([0.8788, 0.8986])\n",
      "Validation Accuracy: 0.8877\n",
      "Accuracy of Araneae : 0.8788\n",
      "Accuracy of Coleoptera : 0.8986\n",
      " \n",
      "Epoch 12/20 : Train Loss 0.0084; Train Accuracy 0.8874\n"
     ]
    },
    {
     "name": "stderr",
     "output_type": "stream",
     "text": [
      "\r",
      " 60%|██████    | 12/20 [33:16<22:08, 166.06s/it]"
     ]
    },
    {
     "name": "stdout",
     "output_type": "stream",
     "text": [
      "Precision:  tensor([0.8950, 0.8820])\n",
      "Recall:  tensor([0.9018, 0.8741])\n",
      "F1 Score:  tensor([0.8950, 0.8820])\n",
      "Validation Accuracy: 0.8891\n",
      "Accuracy of Araneae : 0.8950\n",
      "Accuracy of Coleoptera : 0.8820\n",
      " \n",
      "Epoch 13/20 : Train Loss 0.0083; Train Accuracy 0.8842\n"
     ]
    },
    {
     "name": "stderr",
     "output_type": "stream",
     "text": [
      "\r",
      " 65%|██████▌   | 13/20 [36:03<19:25, 166.47s/it]"
     ]
    },
    {
     "name": "stdout",
     "output_type": "stream",
     "text": [
      "Precision:  tensor([0.8913, 0.8623])\n",
      "Recall:  tensor([0.8868, 0.8676])\n",
      "F1 Score:  tensor([0.8913, 0.8623])\n",
      "Validation Accuracy: 0.8782\n",
      "Accuracy of Araneae : 0.8912\n",
      "Accuracy of Coleoptera : 0.8623\n",
      " \n",
      "Epoch 14/20 : Train Loss 0.0084; Train Accuracy 0.8874\n"
     ]
    },
    {
     "name": "stderr",
     "output_type": "stream",
     "text": [
      "\r",
      " 70%|███████   | 14/20 [38:49<16:37, 166.20s/it]"
     ]
    },
    {
     "name": "stdout",
     "output_type": "stream",
     "text": [
      "Precision:  tensor([0.8625, 0.8759])\n",
      "Recall:  tensor([0.8938, 0.8403])\n",
      "F1 Score:  tensor([0.8625, 0.8759])\n",
      "Validation Accuracy: 0.8686\n",
      "Accuracy of Araneae : 0.8625\n",
      "Accuracy of Coleoptera : 0.8759\n",
      " \n",
      "Epoch 15/20 : Train Loss 0.0081; Train Accuracy 0.8810\n"
     ]
    },
    {
     "name": "stderr",
     "output_type": "stream",
     "text": [
      "\r",
      " 75%|███████▌  | 15/20 [41:34<13:49, 165.95s/it]"
     ]
    },
    {
     "name": "stdout",
     "output_type": "stream",
     "text": [
      "Precision:  tensor([0.8813, 0.8850])\n",
      "Recall:  tensor([0.9027, 0.8603])\n",
      "F1 Score:  tensor([0.8813, 0.8850])\n",
      "Validation Accuracy: 0.8830\n",
      "Accuracy of Araneae : 0.8812\n",
      "Accuracy of Coleoptera : 0.8850\n",
      " \n",
      "Epoch 16/20 : Train Loss 0.0086; Train Accuracy 0.8752\n"
     ]
    },
    {
     "name": "stderr",
     "output_type": "stream",
     "text": [
      "\r",
      " 80%|████████  | 16/20 [44:19<11:02, 165.61s/it]"
     ]
    },
    {
     "name": "stdout",
     "output_type": "stream",
     "text": [
      "Precision:  tensor([0.8763, 0.8926])\n",
      "Recall:  tensor([0.9080, 0.8563])\n",
      "F1 Score:  tensor([0.8763, 0.8926])\n",
      "Validation Accuracy: 0.8836\n",
      "Accuracy of Araneae : 0.8762\n",
      "Accuracy of Coleoptera : 0.8926\n",
      " \n",
      "Epoch 17/20 : Train Loss 0.0080; Train Accuracy 0.8964\n"
     ]
    },
    {
     "name": "stderr",
     "output_type": "stream",
     "text": [
      "\r",
      " 85%|████████▌ | 17/20 [47:04<08:16, 165.48s/it]"
     ]
    },
    {
     "name": "stdout",
     "output_type": "stream",
     "text": [
      "Precision:  tensor([0.8788, 0.9047])\n",
      "Recall:  tensor([0.9178, 0.8604])\n",
      "F1 Score:  tensor([0.8788, 0.9047])\n",
      "Validation Accuracy: 0.8905\n",
      "Accuracy of Araneae : 0.8788\n",
      "Accuracy of Coleoptera : 0.9047\n",
      " \n",
      "Epoch 18/20 : Train Loss 0.0085; Train Accuracy 0.8880\n"
     ]
    },
    {
     "name": "stderr",
     "output_type": "stream",
     "text": [
      "\r",
      " 90%|█████████ | 18/20 [49:51<05:31, 165.68s/it]"
     ]
    },
    {
     "name": "stdout",
     "output_type": "stream",
     "text": [
      "Precision:  tensor([0.8938, 0.8850])\n",
      "Recall:  tensor([0.9039, 0.8731])\n",
      "F1 Score:  tensor([0.8938, 0.8850])\n",
      "Validation Accuracy: 0.8898\n",
      "Accuracy of Araneae : 0.8938\n",
      "Accuracy of Coleoptera : 0.8850\n",
      " \n",
      "Epoch 19/20 : Train Loss 0.0080; Train Accuracy 0.8893\n"
     ]
    },
    {
     "name": "stderr",
     "output_type": "stream",
     "text": [
      "\r",
      " 95%|█████████▌| 19/20 [52:37<02:45, 165.88s/it]"
     ]
    },
    {
     "name": "stdout",
     "output_type": "stream",
     "text": [
      "Precision:  tensor([0.8650, 0.8880])\n",
      "Recall:  tensor([0.9034, 0.8446])\n",
      "F1 Score:  tensor([0.8650, 0.8880])\n",
      "Validation Accuracy: 0.8754\n",
      "Accuracy of Araneae : 0.8650\n",
      "Accuracy of Coleoptera : 0.8880\n",
      " \n",
      "Epoch 20/20 : Train Loss 0.0079; Train Accuracy 0.8989\n"
     ]
    },
    {
     "name": "stderr",
     "output_type": "stream",
     "text": [
      "100%|██████████| 20/20 [55:22<00:00, 166.15s/it]"
     ]
    },
    {
     "name": "stdout",
     "output_type": "stream",
     "text": [
      "Precision:  tensor([0.8662, 0.8835])\n",
      "Recall:  tensor([0.9000, 0.8452])\n",
      "F1 Score:  tensor([0.8662, 0.8835])\n",
      "Validation Accuracy: 0.8741\n",
      "Accuracy of Araneae : 0.8662\n",
      "Accuracy of Coleoptera : 0.8835\n",
      " \n",
      "Finished Training\n",
      "---------------------------------------\n"
     ]
    },
    {
     "name": "stderr",
     "output_type": "stream",
     "text": [
      "\n"
     ]
    }
   ],
   "source": [
    "train_loss_over_epochs = []\n",
    "train_accuracy_over_epochs = []\n",
    "val_accuracy_over_epochs = []\n",
    "# Train\n",
    "for epoch in tqdm(range(NUM_EPOCHS)):\n",
    "    model.train()\n",
    "    epoch_loss = 0.0\n",
    "    epoch_acc = 0.0\n",
    "\n",
    "    for batch_idx, (images, labels) in enumerate(dataloaders['train']):\n",
    "\n",
    "        optimizer.zero_grad()\n",
    "\n",
    "        images, labels = images.to(device), labels.to(device)\n",
    "        # Forward\n",
    "        outputs = model.forward(images)\n",
    "        # Get current loss\n",
    "        loss = criterion(outputs, labels)\n",
    "        # Prediction\n",
    "        _, preds = torch.max(outputs.data, 1)\n",
    "        \n",
    "        loss.backward()\n",
    "        optimizer.step()\n",
    "\n",
    "        epoch_loss += loss.item()\n",
    "        epoch_acc += torch.sum(preds == labels).item()\n",
    "    \n",
    "    epoch_loss /= dataset_sizes['train']\n",
    "    epoch_acc /= dataset_sizes['train']\n",
    "    \n",
    "    train_loss_over_epochs.append(epoch_loss)\n",
    "    train_accuracy_over_epochs.append(epoch_acc)\n",
    "    \n",
    "    print('Epoch %d/%d : Train Loss %.4f; Train Accuracy %.4f' % (epoch+1, NUM_EPOCHS, epoch_loss, epoch_acc))\n",
    "    # Print evaluation on validation data\n",
    "    val_accuracy, val_classwise_accuracy = validation(dataloaders['validation'], TOTAL_CLASSES)\n",
    "    print('Validation Accuracy: %.4f' % (val_accuracy))\n",
    "\n",
    "    # Print classwise accuracies\n",
    "    for i in range(TOTAL_CLASSES):\n",
    "        print('Accuracy of %5s : %.4f' % (label_list[i], val_classwise_accuracy[i]))\n",
    "    print(\" \")\n",
    "    val_accuracy_over_epochs.append(val_accuracy)\n",
    "    \n",
    "    scheduler.step()\n",
    "    \n",
    "print(\"Finished Training\")\n",
    "print(\"---------------------------------------\")\n"
   ]
  },
  {
   "cell_type": "markdown",
   "metadata": {},
   "source": [
    "# Plot Figures"
   ]
  },
  {
   "cell_type": "code",
   "execution_count": 8,
   "metadata": {},
   "outputs": [
    {
     "data": {
      "image/png": "[encoded data removed]",
      "text/plain": [
       "<Figure size 432x288 with 3 Axes>"
      ]
     },
     "metadata": {
      "needs_background": "light"
     },
     "output_type": "display_data"
    }
   ],
   "source": [
    "plt.ioff()\n",
    "fig = plt.figure()\n",
    "\n",
    "# Plot train loss over epochs and val set accuracy over epochs\n",
    "\n",
    "plt.subplot(3, 1, 1)\n",
    "plt.ylabel('Train Loss')\n",
    "plt.plot(np.arange(NUM_EPOCHS), train_loss_over_epochs, 'b-')\n",
    "plt.title('Train Loss and Validation Accuracy')\n",
    "plt.xticks(np.arange(NUM_EPOCHS, dtype=int))\n",
    "plt.grid(True)\n",
    "\n",
    "plt.subplot(3, 1, 2)\n",
    "plt.ylabel('Train Accuracy')\n",
    "plt.plot(np.arange(NUM_EPOCHS), train_accuracy_over_epochs, 'b-')\n",
    "plt.xticks(np.arange(NUM_EPOCHS, dtype=int))\n",
    "plt.grid(True)\n",
    "\n",
    "plt.subplot(3, 1, 3)\n",
    "plt.plot(np.arange(NUM_EPOCHS), val_accuracy_over_epochs, 'b-')\n",
    "plt.ylabel('Val Accuracy')\n",
    "plt.xlabel('Epochs')\n",
    "plt.xticks(np.arange(NUM_EPOCHS, dtype=int))\n",
    "plt.grid(True)\n",
    "plt.show()\n",
    "plt.close(fig)"
   ]
  },
  {
   "cell_type": "markdown",
   "metadata": {},
   "source": [
    "# Test"
   ]
  },
  {
   "cell_type": "code",
   "execution_count": 9,
   "metadata": {},
   "outputs": [],
   "source": [
    "def test(model, criterion, repeats=2):\n",
    "    model.eval()\n",
    "\n",
    "    test_loss = 0.0\n",
    "    test_acc = 0.0\n",
    "\n",
    "    with torch.no_grad():\n",
    "        for itr in range(repeats):\n",
    "            for batch_idx, (images, labels) in enumerate(dataloaders['test']):\n",
    "                images, labels = images.to(device), labels.to(device)\n",
    "\n",
    "                # Forward\n",
    "                outputs = model.forward(images)\n",
    "                # Get loss\n",
    "                loss = criterion(outputs, labels)\n",
    "                # Prediction\n",
    "                _, preds = torch.max(outputs.data, 1)\n",
    "\n",
    "                test_loss += loss.item()\n",
    "                test_acc += torch.sum(preds == labels).item()\n",
    "\n",
    "        test_loss /= (dataset_sizes['test']*repeats)\n",
    "        test_acc /= (dataset_sizes['test']*repeats)\n",
    "\n",
    "        print('Test Loss: %.4f Test Accuracy %.4f' % (test_loss, test_acc))\n"
   ]
  },
  {
   "cell_type": "code",
   "execution_count": 10,
   "metadata": {},
   "outputs": [
    {
     "name": "stdout",
     "output_type": "stream",
     "text": [
      "Test Loss: 0.0077 Test Accuracy 0.8896\n"
     ]
    }
   ],
   "source": [
    "test(model, criterion)"
   ]
  },
  {
   "cell_type": "markdown",
   "metadata": {},
   "source": [
    "# Visualization on Test Samples"
   ]
  },
  {
   "cell_type": "code",
   "execution_count": 11,
   "metadata": {},
   "outputs": [],
   "source": [
    "def imshow(inp, title=None):\n",
    "    inp = inp.numpy().transpose((1, 2, 0))\n",
    "    inp = np.clip(inp, 0, 1)\n",
    "    plt.imshow(inp)\n",
    "    if title is not None:\n",
    "        plt.title(title)\n",
    "    plt.pause(1)  # Pause a bit so that plots are updated\n",
    "    \n",
    "def visualize_model(model, num_images=8):\n",
    "    images_so_far = 0\n",
    "    fig = plt.figure()\n",
    "\n",
    "    for batch_idx, (images, labels) in enumerate(dataloaders['test']):\n",
    "        \n",
    "        images, labels = images.to(device), labels.to(device)\n",
    "        \n",
    "        outputs = model(images)\n",
    "        \n",
    "        _, preds = torch.max(outputs.data, 1)\n",
    "       \n",
    "\n",
    "        for j in range(images.size()[0]):\n",
    "            images_so_far += 1\n",
    "            ax = plt.subplot(num_images//2, 2, images_so_far)\n",
    "            ax.axis('off')\n",
    "            ax.set_title('True class: {}\\n Predicted class: {}'.format(label_list[labels.data[j]], label_list[preds[j]]))\n",
    "\n",
    "            imshow(images.cpu().data[j])\n",
    "\n",
    "            if images_so_far == num_images:\n",
    "                return"
   ]
  },
  {
   "cell_type": "code",
   "execution_count": 12,
   "metadata": {},
   "outputs": [
    {
     "data": {
      "image/png": "[encoded data removed]",
      "text/plain": [
       "<Figure size 432x288 with 1 Axes>"
      ]
     },
     "metadata": {
      "needs_background": "light"
     },
     "output_type": "display_data"
    },
    {
     "data": {
      "image/png": "[encoded data removed]",
      "text/plain": [
       "<Figure size 432x288 with 1 Axes>"
      ]
     },
     "metadata": {
      "needs_background": "light"
     },
     "output_type": "display_data"
    },
    {
     "data": {
      "image/png": "[encoded data removed]",
      "text/plain": [
       "<Figure size 432x288 with 1 Axes>"
      ]
     },
     "metadata": {
      "needs_background": "light"
     },
     "output_type": "display_data"
    },
    {
     "data": {
      "image/png": "[encoded data removed]",
      "text/plain": [
       "<Figure size 432x288 with 1 Axes>"
      ]
     },
     "metadata": {
      "needs_background": "light"
     },
     "output_type": "display_data"
    },
    {
     "data": {
      "image/png": "[encoded data removed]",
      "text/plain": [
       "<Figure size 432x288 with 1 Axes>"
      ]
     },
     "metadata": {
      "needs_background": "light"
     },
     "output_type": "display_data"
    },
    {
     "data": {
      "image/png": "[encoded data removed]",
      "text/plain": [
       "<Figure size 432x288 with 1 Axes>"
      ]
     },
     "metadata": {
      "needs_background": "light"
     },
     "output_type": "display_data"
    },
    {
     "data": {
      "image/png": "[encoded data removed]",
      "text/plain": [
       "<Figure size 432x288 with 1 Axes>"
      ]
     },
     "metadata": {
      "needs_background": "light"
     },
     "output_type": "display_data"
    },
    {
     "data": {
      "image/png": "[encoded data removed]",
      "text/plain": [
       "<Figure size 432x288 with 1 Axes>"
      ]
     },
     "metadata": {
      "needs_background": "light"
     },
     "output_type": "display_data"
    }
   ],
   "source": [
    "visualize_model(model)"
   ]
  },
  {
   "cell_type": "code",
   "execution_count": null,
   "metadata": {},
   "outputs": [],
   "source": []
  }
 ],
 "metadata": {
  "kernelspec": {
   "display_name": "Python 3",
   "language": "python",
   "name": "python3"
  },
  "language_info": {
   "codemirror_mode": {
    "name": "ipython",
    "version": 3
   },
   "file_extension": ".py",
   "mimetype": "text/x-python",
   "name": "python",
   "nbconvert_exporter": "python",
   "pygments_lexer": "ipython3",
   "version": "3.7.4"
  }
 },
 "nbformat": 4,
 "nbformat_minor": 2
}
